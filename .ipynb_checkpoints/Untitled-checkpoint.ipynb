{
 "cells": [
  {
   "cell_type": "code",
   "execution_count": 1,
   "id": "1f770372",
   "metadata": {},
   "outputs": [],
   "source": [
    "arr = [9,4,2,3,1,7,8,6,5]"
   ]
  },
  {
   "cell_type": "code",
   "execution_count": 22,
   "id": "7bf185c0",
   "metadata": {},
   "outputs": [],
   "source": [
    "def bubblesort(arr, steps):\n",
    "    sorted = False\n",
    "    while not sorted:\n",
    "        sorted = True\n",
    "        for i in range(len(arr)-1):\n",
    "            if arr[i]>arr[i+1]:\n",
    "                arr[i], arr[i+1] = arr[i+1], arr[i]\n",
    "                steps.append(arr)\n",
    "                sorted = False\n",
    "    return arr, steps"
   ]
  },
  {
   "cell_type": "code",
   "execution_count": 26,
   "id": "9bb7c9cc",
   "metadata": {},
   "outputs": [
    {
     "name": "stdout",
     "output_type": "stream",
     "text": [
      "[[1, 2, 3, 4, 5, 6, 7, 8, 9]]\n"
     ]
    }
   ],
   "source": [
    "steps = []\n",
    "steps.append(arr)\n",
    "print(steps)\n",
    "arr, steps = bubblesort(arr,steps)"
   ]
  },
  {
   "cell_type": "code",
   "execution_count": 28,
   "id": "3d1728d2",
   "metadata": {},
   "outputs": [],
   "source": [
    "steps.append(arr)"
   ]
  },
  {
   "cell_type": "code",
   "execution_count": null,
   "id": "ceae7692",
   "metadata": {},
   "outputs": [],
   "source": []
  }
 ],
 "metadata": {
  "kernelspec": {
   "display_name": "Python 3 (ipykernel)",
   "language": "python",
   "name": "python3"
  },
  "language_info": {
   "codemirror_mode": {
    "name": "ipython",
    "version": 3
   },
   "file_extension": ".py",
   "mimetype": "text/x-python",
   "name": "python",
   "nbconvert_exporter": "python",
   "pygments_lexer": "ipython3",
   "version": "3.10.12"
  }
 },
 "nbformat": 4,
 "nbformat_minor": 5
}
