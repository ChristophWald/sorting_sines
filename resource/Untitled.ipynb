{
 "cells": [
  {
   "cell_type": "code",
   "execution_count": null,
   "id": "213cc62a",
   "metadata": {},
   "outputs": [],
   "source": [
    "import matplotlib.pyplot as plt\n",
    "import numpy as np\n",
    "from PIL import Image\n",
    "import imageio\n",
    "import glob\n"
   ]
  },
  {
   "cell_type": "code",
   "execution_count": null,
   "id": "1e2428a0",
   "metadata": {},
   "outputs": [],
   "source": [
    "def track_sorting(sorting_function):\n",
    "    steps = []\n",
    "    arr = [9,4,2,3,1,7,8,6,5]\n",
    "    steps.append(arr.copy())  # Store initial state\n",
    "    steps = sorting_function(steps)  # Run the sorting function\n",
    "    return steps  # Return the sorted array and steps\n",
    "\n",
    "def plot_sorting(steps):\n",
    "    for i,s in enumerate(steps):\n",
    "        plt.plot(range(len(s)),s)\n",
    "        plt.show()"
   ]
  },
  {
   "cell_type": "code",
   "execution_count": null,
   "id": "c89b2ea9",
   "metadata": {},
   "outputs": [],
   "source": [
    "def track_sine_sorting(sorting_function):\n",
    "    x = np.arange(0,2*np.pi,0.1)\n",
    "    y = np.sin(x)\n",
    "    steps = []\n",
    "    steps.append(y.copy())\n",
    "    steps = sorting_function(steps)\n",
    "    return steps\n",
    "\n",
    "\n",
    "def save_pngs(steps):\n",
    "    for i,step in enumerate(steps):\n",
    "        plt.plot(range(len(step)),step)\n",
    "        plt.savefig(str(i).zfill(4) + \".png\")\n",
    "        plt.show()\n",
    "    \n",
    "def save_as_gif():\n",
    "    # Get all PNG files in the folder, sorted alphabetically\n",
    "    image_files = sorted(glob.glob(\"*.png\"))\n",
    "\n",
    "    # Open all images\n",
    "    images = [Image.open(img) for img in image_files]\n",
    "    cycle_images = images + images[::-1]\n",
    "\n",
    "    # Save as GIF\n",
    "    images[0].save(\"output.gif\", save_all=True, append_images=cycle_images[1:], duration=10, loop=0)\n",
    "\n",
    "    "
   ]
  },
  {
   "cell_type": "code",
   "execution_count": 1,
   "id": "0039ba53",
   "metadata": {},
   "outputs": [],
   "source": [
    "def bubblesort(steps):\n",
    "    arr = steps[0].copy()\n",
    "    sorted = False\n",
    "    while not sorted:\n",
    "        sorted = True\n",
    "        for i in range(len(arr)-1):\n",
    "            if arr[i]>arr[i+1]:\n",
    "                arr[i], arr[i+1] = arr[i+1], arr[i]\n",
    "                steps.append(arr.copy())\n",
    "                sorted = False\n",
    "    return steps"
   ]
  },
  {
   "cell_type": "code",
   "execution_count": null,
   "id": "019e533b",
   "metadata": {},
   "outputs": [],
   "source": []
  },
  {
   "cell_type": "code",
   "execution_count": null,
   "id": "b3f9f27d",
   "metadata": {},
   "outputs": [],
   "source": [
    "steps = track_sorting(bubblesort)\n",
    "plot_sorting(steps)\n",
    "len(steps)"
   ]
  },
  {
   "cell_type": "code",
   "execution_count": null,
   "id": "f294d770",
   "metadata": {},
   "outputs": [],
   "source": [
    "steps = track_sine_sorting(bubblesort)\n",
    "save_pngs(steps)\n",
    "save_as_gif()\n",
    "len(steps)"
   ]
  },
  {
   "cell_type": "code",
   "execution_count": null,
   "id": "4f155043",
   "metadata": {},
   "outputs": [],
   "source": [
    "def selectionsort(steps):\n",
    "    arr = steps[0].copy()\n",
    "    i = 0\n",
    "    while i < len(arr):\n",
    "        smallest = i\n",
    "        for j in range(i, len(arr)):\n",
    "            if arr[j] < arr[smallest]:\n",
    "                   smallest = j\n",
    "        arr[i], arr[smallest] = arr[smallest], arr[i]\n",
    "        steps.append(arr.copy())\n",
    "        i += 1\n",
    "    \n",
    "    return steps"
   ]
  },
  {
   "cell_type": "code",
   "execution_count": null,
   "id": "22222dcb",
   "metadata": {},
   "outputs": [],
   "source": [
    "steps = track_sorting(selectionsort)\n",
    "plot_sorting(steps)\n",
    "len(steps)"
   ]
  },
  {
   "cell_type": "code",
   "execution_count": null,
   "id": "eec9f594",
   "metadata": {},
   "outputs": [],
   "source": [
    "steps = track_sine_sorting(selectionsort)\n",
    "save_pngs(steps)\n",
    "save_as_gif()\n",
    "len(steps)"
   ]
  },
  {
   "cell_type": "code",
   "execution_count": null,
   "id": "3556749a",
   "metadata": {},
   "outputs": [],
   "source": [
    "def insertionsort(steps):\n",
    "    arr = steps[0].copy()\n",
    "    for i in range(1,len(arr)):\n",
    "        key = arr[i]\n",
    "        j = i-1\n",
    "        while j >= 0 and arr[j] > key:\n",
    "            arr[j+1] = arr[j]\n",
    "            j -= 1\n",
    "        arr[j+1] = key\n",
    "        steps.append(arr.copy())\n",
    "    return steps\n",
    "    \n",
    "            \n",
    "\n",
    " \n",
    "            "
   ]
  },
  {
   "cell_type": "code",
   "execution_count": null,
   "id": "b1aad65c",
   "metadata": {},
   "outputs": [],
   "source": [
    "steps = track_sorting(insertionsort)\n",
    "plot_sorting(steps)\n",
    "len(steps)"
   ]
  },
  {
   "cell_type": "code",
   "execution_count": null,
   "id": "ff6574f6",
   "metadata": {},
   "outputs": [],
   "source": [
    "steps = track_sine_sorting(insertionsort)\n",
    "save_pngs(steps)\n",
    "save_as_gif()\n",
    "len(steps)"
   ]
  },
  {
   "cell_type": "code",
   "execution_count": null,
   "id": "6660c9d7",
   "metadata": {},
   "outputs": [],
   "source": [
    "def heapify(arr, k, l, steps):\n",
    "    left_child = 2 * k + 1\n",
    "    right_child = 2 * k + 2\n",
    "    \n",
    "    # Überprüfen, ob k keine Kinder hat\n",
    "    if left_child >= l:\n",
    "        return\n",
    "    \n",
    "    # Berechnung des maximalen Sohns\n",
    "    if right_child == l or arr[left_child] > arr[right_child]:\n",
    "        maxson = left_child\n",
    "    else:\n",
    "        maxson = right_child\n",
    "    \n",
    "    # Überprüfen, ob k bereits das Sickerziel ist\n",
    "    if arr[k] >= arr[maxson]:\n",
    "        return\n",
    "    \n",
    "    # Tauschen von k mit maxson\n",
    "    arr[k], arr[maxson] = arr[maxson], arr[k]\n",
    "    steps.append(arr.copy())\n",
    "    \n",
    "    # Rekursiver Aufruf\n",
    "    heapify(arr, maxson, l, steps)\n",
    "\n",
    "def buildheap(arr, steps):\n",
    "    n = len(arr)\n",
    "    for j in range(n // 2 - 1, -1, -1):\n",
    "        heapify(arr, j, n, steps)\n",
    "\n",
    "        \n",
    "def heapsort(steps):\n",
    "    arr = steps[0].copy()\n",
    "    n = len(arr)\n",
    "    \n",
    "    # Großschritt 0: Falls n ≤ 1, Rückgabe\n",
    "    if n <= 1:\n",
    "        return\n",
    "    \n",
    "    # Großschritt 1: Aufbauphase des Heaps\n",
    "    buildheap(arr, steps)\n",
    "    \n",
    "    # Großschritt 2: Auswahlphase\n",
    "    heapsize = n\n",
    "    while heapsize >= 2:\n",
    "        arr[0], arr[heapsize - 1] = arr[heapsize - 1], arr[0]\n",
    "        steps.append(arr.copy())\n",
    "        # Verringern des Heapsizes\n",
    "        heapsize -= 1\n",
    "        # Reheapify den Heap (entspricht der heapify-Funktion)\n",
    "        heapify(arr, 0, heapsize, steps)\n",
    "    return steps"
   ]
  },
  {
   "cell_type": "code",
   "execution_count": null,
   "id": "4716ff13",
   "metadata": {},
   "outputs": [],
   "source": [
    "steps = track_sorting(heapsort)\n",
    "plot_sorting(steps)\n",
    "len(steps)"
   ]
  },
  {
   "cell_type": "code",
   "execution_count": null,
   "id": "f61b5e1a",
   "metadata": {},
   "outputs": [],
   "source": [
    "steps = track_sine_sorting(heapsort)\n",
    "save_pngs(steps)\n",
    "save_as_gif()\n",
    "len(steps)"
   ]
  },
  {
   "cell_type": "markdown",
   "id": "114e0751",
   "metadata": {},
   "source": [
    "Not happy because not in place:"
   ]
  },
  {
   "cell_type": "code",
   "execution_count": null,
   "id": "450d74d9",
   "metadata": {},
   "outputs": [],
   "source": [
    "def counting_sort(A):\n",
    "    B = len(A) * [0]\n",
    "    C = len(A) * [0]\n",
    "    for i in range(len(A)):\n",
    "        C[A[i]-1] += 1\n",
    "    for i in range(1,len(A)):\n",
    "        C[i] += C[i-1]\n",
    "    for i in range(len(A)-1, -1, -1):\n",
    "        B[C[A[i]-1]-1] = A[i]\n",
    "    return B"
   ]
  },
  {
   "cell_type": "code",
   "execution_count": null,
   "id": "f615b754",
   "metadata": {},
   "outputs": [],
   "source": [
    "def counting_sort(A, exp):\n",
    "    B = [0] * len(A)\n",
    "    C = [0] * 10  # Digits range from 0-9\n",
    "\n",
    "    # Count occurrences of digits at the current exponent place\n",
    "    for i in range(len(A)):\n",
    "        index = (A[i] // exp) % 10\n",
    "        C[index] += 1\n",
    "\n",
    "    # Convert C[] to store actual positions\n",
    "    for i in range(1, 10):\n",
    "        C[i] += C[i - 1]\n",
    "\n",
    "    # Build the output array B[] in a stable way\n",
    "    for i in range(len(A) - 1, -1, -1):\n",
    "        index = (A[i] // exp) % 10\n",
    "        B[C[index] - 1] = A[i]\n",
    "        C[index] -= 1\n",
    "\n",
    "    # Copy sorted values back to A\n",
    "    for i in range(len(A)):\n",
    "        A[i] = B[i]\n",
    "\n",
    "def radix_sort(A):\n",
    "    max_value = max(A)  # Find the maximum number to know digit count\n",
    "    exp = 1  # Start with the least significant digit (1s place)\n",
    "\n",
    "    while max_value // exp > 0:\n",
    "        counting_sort(A, exp)\n",
    "        print(A)\n",
    "        exp *= 10  # Move to the next significant digit\n",
    "\n",
    "# Example usage\n",
    "A = [0.329, 0.457, 0.657, 0.839, 0.436, 0.720, 0.355]\n",
    "radix_sort(A)\n",
    "print(A)  # Output: [329, 355, 436, 457, 657, 720, 839]\n"
   ]
  },
  {
   "cell_type": "code",
   "execution_count": null,
   "id": "0691bd0c",
   "metadata": {},
   "outputs": [],
   "source": [
    "def counting_sort(A, exp):\n",
    "    B = [0] * len(A)\n",
    "    C = [0] * 10  # Digits 0-9\n",
    "\n",
    "    # Count occurrences of digits at the current exponent place\n",
    "    for i in range(len(A)):\n",
    "        index = (A[i] // exp) % 10\n",
    "        C[index] += 1\n",
    "\n",
    "    # Convert C[] to store actual positions\n",
    "    for i in range(1, 10):\n",
    "        C[i] += C[i - 1]\n",
    "\n",
    "    # Build the output array B[] in a stable way\n",
    "    for i in range(len(A) - 1, -1, -1):\n",
    "        index = (A[i] // exp) % 10\n",
    "        B[C[index] - 1] = A[i]\n",
    "        C[index] -= 1\n",
    "\n",
    "    # Copy sorted values back to A\n",
    "    for i in range(len(A)):\n",
    "        A[i] = B[i]\n",
    "\n",
    "def radix_sort_floats(A, decimal_places=10):\n",
    "    scale_factor = 10**decimal_places  # Convert floats to integers\n",
    "    A_int = [int(num * scale_factor) for num in A]  # Scale up\n",
    "\n",
    "    max_value = max(A_int)\n",
    "    exp = 1  # Start with the least significant digit\n",
    "\n",
    "    while max_value // exp > 0:\n",
    "        counting_sort(A_int, exp)\n",
    "        print(A)\n",
    "        exp *= 10  # Move to the next digit\n",
    "\n",
    "    # Convert back to float\n",
    "    for i in range(len(A)):\n",
    "        A[i] = A_int[i] / scale_factor\n",
    "\n",
    "# Example usage\n",
    "A = [0.329, 0.457, 0.657, 0.839, 0.436, 0.720, 0.355]\n",
    "radix_sort_floats(A)\n",
    "print(A)  # Output: [0.329, 0.355, 0.436, 0.457, 0.657, 0.720, 0.839]\n"
   ]
  },
  {
   "cell_type": "code",
   "execution_count": null,
   "id": "c8af2152",
   "metadata": {},
   "outputs": [],
   "source": [
    "x = np.arange(0,2*np.pi,0.5)\n",
    "y = np.sin(x)\n",
    "radix_sort_floats(y)"
   ]
  },
  {
   "cell_type": "code",
   "execution_count": null,
   "id": "cf5fd302",
   "metadata": {},
   "outputs": [],
   "source": [
    "y"
   ]
  },
  {
   "cell_type": "code",
   "execution_count": null,
   "id": "59c65a6e",
   "metadata": {},
   "outputs": [],
   "source": [
    "def mergesort(steps, arr, left, right):\n",
    "    if left < right:\n",
    "        mid = (left + right) // 2\n",
    "        mergesort(steps, arr, left, mid)\n",
    "        mergesort(steps, arr, mid + 1, right)\n",
    "        merge(steps, arr, left, mid, right)\n",
    "    return steps\n",
    "\n",
    "def merge(steps, arr, left, mid, right):\n",
    "    temp = arr[left:right+1]  # Copy relevant portion\n",
    "    i, j, k = 0, mid - left + 1, left\n",
    "\n",
    "    while i <= mid - left and j < len(temp):\n",
    "        if temp[i] <= temp[j]:\n",
    "            arr[k] = temp[i]\n",
    "            i += 1\n",
    "        else:\n",
    "            arr[k] = temp[j]\n",
    "            j += 1\n",
    "        k += 1\n",
    "        steps.append(arr.copy())  # Store state\n",
    "\n",
    "    while i <= mid - left:\n",
    "        arr[k] = temp[i]\n",
    "        i += 1\n",
    "        k += 1\n",
    "        #steps.append(arr.copy())\n",
    "\n",
    "    while j < len(temp):\n",
    "        arr[k] = temp[j]\n",
    "        j += 1\n",
    "        k += 1\n",
    "    steps.append(arr.copy())\n",
    "\n",
    "def track_mergesort():\n",
    "    steps = []\n",
    "    arr = [7,3,4,8,6,5,1,2]\n",
    "    steps.append(arr.copy())  # Store initial state\n",
    "    mergesort(steps, arr, 0, len(arr) - 1)\n",
    "    return steps\n"
   ]
  },
  {
   "cell_type": "code",
   "execution_count": null,
   "id": "3aeecbf6",
   "metadata": {},
   "outputs": [],
   "source": [
    "track_mergesort()"
   ]
  },
  {
   "cell_type": "code",
   "execution_count": null,
   "id": "839f963e",
   "metadata": {},
   "outputs": [],
   "source": []
  }
 ],
 "metadata": {
  "kernelspec": {
   "display_name": "Python 3",
   "language": "python",
   "name": "python3"
  },
  "language_info": {
   "codemirror_mode": {
    "name": "ipython",
    "version": 3
   },
   "file_extension": ".py",
   "mimetype": "text/x-python",
   "name": "python",
   "nbconvert_exporter": "python",
   "pygments_lexer": "ipython3",
   "version": "3.10.12"
  }
 },
 "nbformat": 4,
 "nbformat_minor": 5
}
